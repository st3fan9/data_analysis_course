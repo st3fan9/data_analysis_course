{
 "cells": [
  {
   "cell_type": "code",
   "execution_count": null,
   "metadata": {},
   "outputs": [],
   "source": [
    "import scanpy as sc\n",
    "import numpy as np\n",
    "from matplotlib import pyplot as plt"
   ]
  },
  {
   "cell_type": "code",
   "execution_count": null,
   "metadata": {},
   "outputs": [],
   "source": [
    "adata = sc.read('data/adata_course_filt.h5ad')"
   ]
  },
  {
   "cell_type": "code",
   "execution_count": null,
   "metadata": {},
   "outputs": [],
   "source": [
    "adata.shape"
   ]
  },
  {
   "cell_type": "code",
   "execution_count": null,
   "metadata": {},
   "outputs": [],
   "source": [
    "target_sum = 1e4\n",
    "sc.pp.filter_cells(adata, min_genes=200)\n",
    "sc.pp.filter_genes(adata, min_cells=3)\n",
    "\n",
    "sc.pp.highly_variable_genes(adata, n_top_genes=2000, flavor='seurat_v3')\n",
    "adata.obsm['X_hv'] = adata[:, adata.var.highly_variable].X.toarray()\n",
    "adata.obsm['X_hv'] = target_sum * adata.obsm['X_hv'] / adata.obsm['X_hv'].sum(axis=1).reshape(-1, 1)\n",
    "adata.obsm['X_hv'] = np.log2(1 + adata.obsm['X_hv'])\n",
    "\n",
    "sc.pp.normalize_total(adata, target_sum=1e4)\n",
    "sc.pp.log1p(adata)\n",
    "\n",
    "sc.pp.neighbors(adata, use_rep='X_hv')\n",
    "sc.tl.umap(adata)"
   ]
  },
  {
   "cell_type": "code",
   "execution_count": null,
   "metadata": {},
   "outputs": [],
   "source": [
    "sc.tl.leiden(adata, resolution=1)"
   ]
  },
  {
   "cell_type": "code",
   "execution_count": null,
   "metadata": {},
   "outputs": [],
   "source": [
    "sc.pl.highest_expr_genes(adata, n_top=20)\n",
    "sc.pl.highly_variable_genes(adata, log=True)\n",
    "sc.pl.umap(adata, color=\"leiden\")"
   ]
  },
  {
   "cell_type": "code",
   "execution_count": null,
   "metadata": {},
   "outputs": [],
   "source": [
    "sc.pl.umap(adata, color=['Rho', 'Arr3'], use_raw=False)\n",
    "sc.pl.umap(adata, color=['Onecut1', 'Trpm1'], use_raw=False)\n",
    "sc.pl.umap(adata, color=[ 'Grik1', 'Tfap2a'], use_raw=False)\n",
    "sc.pl.umap(adata, color=['Rbpms', 'Rlbp1'], use_raw=False)\n",
    "sc.pl.umap(adata, color=['Aif1', 'Pecam1'], use_raw=False)"
   ]
  },
  {
   "cell_type": "code",
   "execution_count": null,
   "metadata": {},
   "outputs": [],
   "source": [
    "sc.pl.umap(adata, color=['Nrl', 'Opn1mw'], use_raw=False)\n",
    "sc.pl.umap(adata, color=['Onecut1', 'Grm6'], use_raw=False)\n",
    "sc.pl.umap(adata, color=['Gucy1a1', 'Gad1'], use_raw=False)\n",
    "sc.pl.umap(adata, color=['Sncg', 'Apoe'], use_raw=False)\n",
    "sc.pl.umap(adata, color=['Cx3cr1', 'Vwf'], use_raw=False)"
   ]
  }
 ],
 "metadata": {
  "kernelspec": {
   "display_name": "iob_retreat_2023",
   "language": "python",
   "name": "python3"
  },
  "language_info": {
   "codemirror_mode": {
    "name": "ipython",
    "version": 3
   },
   "file_extension": ".py",
   "mimetype": "text/x-python",
   "name": "python",
   "nbconvert_exporter": "python",
   "pygments_lexer": "ipython3",
   "version": "3.11.3"
  }
 },
 "nbformat": 4,
 "nbformat_minor": 2
}
